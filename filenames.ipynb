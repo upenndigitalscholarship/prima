{
 "cells": [
  {
   "cell_type": "code",
   "execution_count": 14,
   "metadata": {},
   "outputs": [],
   "source": [
    "import shutil \n",
    "import os \n",
    "\n",
    "# take a folder of files, replace space with _ and lowercase the file name,\n",
    "# then move the files to assets/media\n",
    "\n",
    "def main(src_path, dest_path):\n",
    "    for file in os.listdir(src_path):\n",
    "        new_name = file.replace(\" \", \"_\").lower()\n",
    "        src = os.path.join(src_path, file)\n",
    "        dest = os.path.join(dest_path, new_name)\n",
    "        shutil.move(src, dest)\n",
    "main(\"/home/apjanco/Downloads/Prisencolinensinainciusol\", \"assets/media\")"
   ]
  },
  {
   "cell_type": "code",
   "execution_count": null,
   "metadata": {},
   "outputs": [],
   "source": []
  }
 ],
 "metadata": {
  "kernelspec": {
   "display_name": "base",
   "language": "python",
   "name": "python3"
  },
  "language_info": {
   "codemirror_mode": {
    "name": "ipython",
    "version": 3
   },
   "file_extension": ".py",
   "mimetype": "text/x-python",
   "name": "python",
   "nbconvert_exporter": "python",
   "pygments_lexer": "ipython3",
   "version": "3.10.9"
  }
 },
 "nbformat": 4,
 "nbformat_minor": 2
}
